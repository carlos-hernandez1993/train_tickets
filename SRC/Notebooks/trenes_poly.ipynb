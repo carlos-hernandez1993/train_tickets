{
 "cells": [
  {
   "cell_type": "code",
   "execution_count": 1,
   "metadata": {},
   "outputs": [],
   "source": [
    "import sys, os"
   ]
  },
  {
   "cell_type": "code",
   "execution_count": 2,
   "metadata": {},
   "outputs": [
    {
     "name": "stdout",
     "output_type": "stream",
     "text": [
      "---------------\n",
      "/Users/valdecantos/Documents/The_Bridge/Alumno_Folder/Alumno_Curso/datascience_thebridge_9_21/Proyecto ML/SRC\n",
      "---------------\n",
      "---------------\n",
      "/Users/valdecantos/Documents/The_Bridge/Alumno_Folder/Alumno_Curso/datascience_thebridge_9_21/Proyecto ML\n",
      "---------------\n",
      "\n"
     ]
    },
    {
     "data": {
      "text/plain": [
       "['/Users/valdecantos/Documents/The_Bridge/Alumno_Folder/Alumno_Curso/datascience_thebridge_9_21/Proyecto ML/SRC/Notebooks',\n",
       " '/Users/valdecantos/.vscode/extensions/ms-toolsai.jupyter-2021.10.1101450599/pythonFiles',\n",
       " '/Users/valdecantos/.vscode/extensions/ms-toolsai.jupyter-2021.10.1101450599/pythonFiles/lib/python',\n",
       " '/Library/Frameworks/Python.framework/Versions/3.7/lib/python37.zip',\n",
       " '/Library/Frameworks/Python.framework/Versions/3.7/lib/python3.7',\n",
       " '/Library/Frameworks/Python.framework/Versions/3.7/lib/python3.7/lib-dynload',\n",
       " '',\n",
       " '/Library/Frameworks/Python.framework/Versions/3.7/lib/python3.7/site-packages',\n",
       " '/Library/Frameworks/Python.framework/Versions/3.7/lib/python3.7/site-packages/IPython/extensions',\n",
       " '/Users/valdecantos/.ipython',\n",
       " '/Users/valdecantos/Documents/The_Bridge/Alumno_Folder/Alumno_Curso/datascience_thebridge_9_21/Proyecto ML']"
      ]
     },
     "execution_count": 2,
     "metadata": {},
     "output_type": "execute_result"
    }
   ],
   "source": [
    "def get_root_path(n):\n",
    "    '''\n",
    "    Esta función nos permite iterar sobre carpetas para añadir el path de nuestra carpeta raíz\n",
    "    Argumentos:\n",
    "        - n (int): el número de veces que iteraremos para llegar a la carpeta deseada\n",
    "    '''\n",
    "    path = os.getcwd() # para notebook ||| __file__ --> para .py\n",
    "    for i in range(n):\n",
    "        path = os.path.dirname(path)\n",
    "        print('---------------')\n",
    "        print(path)\n",
    "        print('---------------')\n",
    "    sys.path.append(path)\n",
    "\n",
    "get_root_path(n=2)\n",
    "print()\n",
    "sys.path"
   ]
  },
  {
   "cell_type": "code",
   "execution_count": 3,
   "metadata": {},
   "outputs": [],
   "source": [
    "import pandas as pd\n",
    "import numpy as np\n",
    "import sklearn\n",
    "from sklearn import preprocessing\n",
    "import seaborn as sns\n",
    "import matplotlib.pyplot as plt\n",
    "from SRC.Utils.preprocesado1 import preprocesado as prep1"
   ]
  },
  {
   "cell_type": "code",
   "execution_count": 4,
   "metadata": {},
   "outputs": [],
   "source": [
    "trenes = pd.read_csv(\"/Users/valdecantos/Documents/The_Bridge/Alumno_Folder/Alumno_Curso/datascience_thebridge_9_21/Proyecto ML/SRC/Data/RAW/viajes-en-tren-sample.csv\")"
   ]
  },
  {
   "cell_type": "code",
   "execution_count": 6,
   "metadata": {},
   "outputs": [
    {
     "name": "stderr",
     "output_type": "stream",
     "text": [
      "/Users/valdecantos/Documents/The_Bridge/Alumno_Folder/Alumno_Curso/datascience_thebridge_9_21/Proyecto ML/SRC/Utils/preprocesado1.py:39: FutureWarning: The default value of regex will change from True to False in a future version.\n",
      "  df['vehicle_type'] = df['vehicle_type'].str.replace('REGIONAL.','REG.EXP')\n",
      "/Users/valdecantos/Documents/The_Bridge/Alumno_Folder/Alumno_Curso/datascience_thebridge_9_21/Proyecto ML/SRC/Utils/preprocesado1.py:41: FutureWarning: The default value of regex will change from True to False in a future version.\n",
      "  df['vehicle_type'] = df['vehicle_type'].str.replace('REG.EXP.','REG.EXP')\n"
     ]
    },
    {
     "name": "stdout",
     "output_type": "stream",
     "text": [
      "<class 'pandas.core.frame.DataFrame'>\n",
      "RangeIndex: 1000000 entries, 0 to 999999\n",
      "Data columns (total 12 columns):\n",
      " #   Column            Non-Null Count    Dtype  \n",
      "---  ------            --------------    -----  \n",
      " 0   duration          1000000 non-null  float64\n",
      " 1   price             1000000 non-null  float64\n",
      " 2   seats             1000000 non-null  int64  \n",
      " 3   origin_le         1000000 non-null  int64  \n",
      " 4   destination_le    1000000 non-null  int64  \n",
      " 5   vehicle_type_le   1000000 non-null  int64  \n",
      " 6   vehicle_class_le  1000000 non-null  int64  \n",
      " 7   fare_le           1000000 non-null  int64  \n",
      " 8   Month             1000000 non-null  int64  \n",
      " 9   Day               1000000 non-null  int64  \n",
      " 10  Day of the week   1000000 non-null  int64  \n",
      " 11  Hour              1000000 non-null  int64  \n",
      "dtypes: float64(2), int64(10)\n",
      "memory usage: 91.6 MB\n"
     ]
    }
   ],
   "source": [
    "DF_modificado = prep1(trenes);\n",
    "DF_modificado.info()"
   ]
  },
  {
   "cell_type": "code",
   "execution_count": 7,
   "metadata": {},
   "outputs": [
    {
     "data": {
      "text/html": [
       "<div>\n",
       "<style scoped>\n",
       "    .dataframe tbody tr th:only-of-type {\n",
       "        vertical-align: middle;\n",
       "    }\n",
       "\n",
       "    .dataframe tbody tr th {\n",
       "        vertical-align: top;\n",
       "    }\n",
       "\n",
       "    .dataframe thead th {\n",
       "        text-align: right;\n",
       "    }\n",
       "</style>\n",
       "<table border=\"1\" class=\"dataframe\">\n",
       "  <thead>\n",
       "    <tr style=\"text-align: right;\">\n",
       "      <th></th>\n",
       "      <th>duration</th>\n",
       "      <th>price</th>\n",
       "      <th>seats</th>\n",
       "      <th>origin_le</th>\n",
       "      <th>destination_le</th>\n",
       "      <th>vehicle_type_le</th>\n",
       "      <th>vehicle_class_le</th>\n",
       "      <th>fare_le</th>\n",
       "      <th>Month</th>\n",
       "      <th>Day</th>\n",
       "      <th>Day of the week</th>\n",
       "      <th>Hour</th>\n",
       "    </tr>\n",
       "  </thead>\n",
       "  <tbody>\n",
       "    <tr>\n",
       "      <th>0</th>\n",
       "      <td>2.75</td>\n",
       "      <td>64.25</td>\n",
       "      <td>325</td>\n",
       "      <td>3</td>\n",
       "      <td>0</td>\n",
       "      <td>2</td>\n",
       "      <td>0</td>\n",
       "      <td>2</td>\n",
       "      <td>1</td>\n",
       "      <td>26</td>\n",
       "      <td>1</td>\n",
       "      <td>16</td>\n",
       "    </tr>\n",
       "    <tr>\n",
       "      <th>1</th>\n",
       "      <td>1.78</td>\n",
       "      <td>33.50</td>\n",
       "      <td>289</td>\n",
       "      <td>0</td>\n",
       "      <td>8</td>\n",
       "      <td>2</td>\n",
       "      <td>0</td>\n",
       "      <td>2</td>\n",
       "      <td>2</td>\n",
       "      <td>12</td>\n",
       "      <td>4</td>\n",
       "      <td>8</td>\n",
       "    </tr>\n",
       "    <tr>\n",
       "      <th>2</th>\n",
       "      <td>3.32</td>\n",
       "      <td>41.85</td>\n",
       "      <td>181</td>\n",
       "      <td>3</td>\n",
       "      <td>2</td>\n",
       "      <td>2</td>\n",
       "      <td>2</td>\n",
       "      <td>2</td>\n",
       "      <td>1</td>\n",
       "      <td>21</td>\n",
       "      <td>3</td>\n",
       "      <td>13</td>\n",
       "    </tr>\n",
       "    <tr>\n",
       "      <th>3</th>\n",
       "      <td>6.58</td>\n",
       "      <td>28.35</td>\n",
       "      <td>188</td>\n",
       "      <td>3</td>\n",
       "      <td>6</td>\n",
       "      <td>7</td>\n",
       "      <td>0</td>\n",
       "      <td>0</td>\n",
       "      <td>2</td>\n",
       "      <td>21</td>\n",
       "      <td>6</td>\n",
       "      <td>6</td>\n",
       "    </tr>\n",
       "    <tr>\n",
       "      <th>4</th>\n",
       "      <td>6.25</td>\n",
       "      <td>43.50</td>\n",
       "      <td>207</td>\n",
       "      <td>3</td>\n",
       "      <td>0</td>\n",
       "      <td>2</td>\n",
       "      <td>2</td>\n",
       "      <td>2</td>\n",
       "      <td>10</td>\n",
       "      <td>27</td>\n",
       "      <td>1</td>\n",
       "      <td>7</td>\n",
       "    </tr>\n",
       "  </tbody>\n",
       "</table>\n",
       "</div>"
      ],
      "text/plain": [
       "   duration  price  seats  origin_le  destination_le  vehicle_type_le  \\\n",
       "0      2.75  64.25    325          3               0                2   \n",
       "1      1.78  33.50    289          0               8                2   \n",
       "2      3.32  41.85    181          3               2                2   \n",
       "3      6.58  28.35    188          3               6                7   \n",
       "4      6.25  43.50    207          3               0                2   \n",
       "\n",
       "   vehicle_class_le  fare_le  Month  Day  Day of the week  Hour  \n",
       "0                 0        2      1   26                1    16  \n",
       "1                 0        2      2   12                4     8  \n",
       "2                 2        2      1   21                3    13  \n",
       "3                 0        0      2   21                6     6  \n",
       "4                 2        2     10   27                1     7  "
      ]
     },
     "execution_count": 7,
     "metadata": {},
     "output_type": "execute_result"
    }
   ],
   "source": [
    "DF_modificado.head()"
   ]
  },
  {
   "cell_type": "code",
   "execution_count": 8,
   "metadata": {},
   "outputs": [],
   "source": [
    "X = DF_modificado[['duration','seats','origin_le','destination_le','vehicle_type_le','vehicle_class_le','fare_le','Month','Day','Day of the week','Hour']]\n",
    "y = DF_modificado[\"price\"]"
   ]
  },
  {
   "cell_type": "code",
   "execution_count": 12,
   "metadata": {},
   "outputs": [],
   "source": [
    "from sklearn.preprocessing import PolynomialFeatures\n",
    "from sklearn.linear_model import LinearRegression\n",
    "from sklearn.model_selection import train_test_split\n",
    "from sklearn.metrics import mean_squared_error, mean_absolute_error, r2_score\n",
    "\n"
   ]
  },
  {
   "cell_type": "code",
   "execution_count": 13,
   "metadata": {},
   "outputs": [],
   "source": [
    "model_poly = PolynomialFeatures(degree = 4)\n",
    "\n",
    "X_train, X_test, y_train, y_test = train_test_split(X, y , test_size = 0.2)\n",
    "model_poly.fit(X_train)\n",
    "X_poly = model_poly.transform(X_train)"
   ]
  },
  {
   "cell_type": "code",
   "execution_count": null,
   "metadata": {},
   "outputs": [],
   "source": [
    "pol_reg = LinearRegression()\n",
    "pol_reg.fit(X_poly, y_train)"
   ]
  },
  {
   "cell_type": "code",
   "execution_count": null,
   "metadata": {},
   "outputs": [],
   "source": [
    "X_poly_test = model_poly.transform(X_test)\n",
    "y_pred_test = pol_reg.predict(X_poly_test)\n",
    "print('The model performance for test set')\n",
    "print('--------------------------------------')\n",
    "print('MAE test', mean_absolute_error(y_test, y_pred_test))\n",
    "print('MSE test', mean_squared_error(y_test, y_pred_test))\n",
    "print('RMSE test', np.sqrt(mean_squared_error(y_test, y_pred_test)))\n",
    "print('R2 score', r2_score(y_test, y_pred_test))"
   ]
  },
  {
   "cell_type": "code",
   "execution_count": null,
   "metadata": {},
   "outputs": [],
   "source": [
    "'''The model performance for test set degree 3\n",
    "----------------------------------------------\n",
    "MAE test 5.264318536408923\n",
    "MSE test 61.22041617527156\n",
    "RMSE test 7.8243476517388695\n",
    "R2 score 0.8394729146813227\n",
    "\n",
    "The model performance for test set degree 2\n",
    "-------------------------------------------\n",
    "MAE test 7.650586445631923\n",
    "MSE test 108.8959564220354\n",
    "RMSE test 10.435322535601637\n",
    "R2 score 0.7157169313177172'''"
   ]
  },
  {
   "cell_type": "code",
   "execution_count": 29,
   "metadata": {},
   "outputs": [],
   "source": [
    "import pickle\n",
    "\n",
    "filename = 'trenes_Poly_model_1_de_2'\n",
    "\n",
    "with open(filename, 'wb') as archivo_salida:\n",
    "    pickle.dump(model_poly, archivo_salida)"
   ]
  },
  {
   "cell_type": "code",
   "execution_count": null,
   "metadata": {},
   "outputs": [],
   "source": [
    "filename = 'ftrenes_Poly_model_2_de_2'\n",
    "\n",
    "with open(filename, 'wb') as archivo_salida:\n",
    "    pickle.dump(pol_reg, archivo_salida)"
   ]
  },
  {
   "cell_type": "code",
   "execution_count": 14,
   "metadata": {},
   "outputs": [],
   "source": [
    "import pickle\n",
    "path = \"/Users/valdecantos/Documents/The_Bridge/Alumno_Folder/Alumno_Curso/datascience_thebridge_9_21/Proyecto ML/SRC/Modelos/Resto_modelos/trenes_Poly_model\"\n",
    "with open(path, 'rb') as archivo_entrada:\n",
    "    pol_reg = pickle.load(archivo_entrada)"
   ]
  }
 ],
 "metadata": {
  "interpreter": {
   "hash": "aee8b7b246df8f9039afb4144a1f6fd8d2ca17a180786b69acc140d282b71a49"
  },
  "kernelspec": {
   "display_name": "Python 3.7.4 64-bit",
   "language": "python",
   "name": "python3"
  },
  "language_info": {
   "codemirror_mode": {
    "name": "ipython",
    "version": 3
   },
   "file_extension": ".py",
   "mimetype": "text/x-python",
   "name": "python",
   "nbconvert_exporter": "python",
   "pygments_lexer": "ipython3",
   "version": "3.7.4"
  },
  "orig_nbformat": 4
 },
 "nbformat": 4,
 "nbformat_minor": 2
}
