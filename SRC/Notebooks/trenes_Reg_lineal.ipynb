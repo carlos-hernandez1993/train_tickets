{
 "cells": [
  {
   "cell_type": "code",
   "execution_count": 1,
   "metadata": {},
   "outputs": [],
   "source": [
    "import sys, os"
   ]
  },
  {
   "cell_type": "code",
   "execution_count": 2,
   "metadata": {},
   "outputs": [
    {
     "name": "stdout",
     "output_type": "stream",
     "text": [
      "---------------\n",
      "/Users/valdecantos/Documents/The_Bridge/Alumno_Folder/Alumno_Curso/datascience_thebridge_9_21/Proyecto ML/SRC\n",
      "---------------\n",
      "\n"
     ]
    },
    {
     "data": {
      "text/plain": [
       "['/Users/valdecantos/Documents/The_Bridge/Alumno_Folder/Alumno_Curso/datascience_thebridge_9_21/Proyecto ML/SRC/Notebooks',\n",
       " '/Users/valdecantos/.vscode/extensions/ms-toolsai.jupyter-2021.10.1101450599/pythonFiles',\n",
       " '/Users/valdecantos/.vscode/extensions/ms-toolsai.jupyter-2021.10.1101450599/pythonFiles/lib/python',\n",
       " '/Library/Frameworks/Python.framework/Versions/3.7/lib/python37.zip',\n",
       " '/Library/Frameworks/Python.framework/Versions/3.7/lib/python3.7',\n",
       " '/Library/Frameworks/Python.framework/Versions/3.7/lib/python3.7/lib-dynload',\n",
       " '',\n",
       " '/Library/Frameworks/Python.framework/Versions/3.7/lib/python3.7/site-packages',\n",
       " '/Library/Frameworks/Python.framework/Versions/3.7/lib/python3.7/site-packages/IPython/extensions',\n",
       " '/Users/valdecantos/.ipython',\n",
       " '/Users/valdecantos/Documents/The_Bridge/Alumno_Folder/Alumno_Curso/datascience_thebridge_9_21/Proyecto ML/SRC']"
      ]
     },
     "execution_count": 2,
     "metadata": {},
     "output_type": "execute_result"
    }
   ],
   "source": [
    "def get_root_path(n):\n",
    "    '''\n",
    "    Esta función nos permite iterar sobre carpetas para añadir el path de nuestra carpeta raíz\n",
    "    Argumentos:\n",
    "        - n (int): el número de veces que iteraremos para llegar a la carpeta deseada\n",
    "    '''\n",
    "    path = os.getcwd() # para notebook ||| __file__ --> para .py\n",
    "    for i in range(n):\n",
    "        path = os.path.dirname(path)\n",
    "        print('---------------')\n",
    "        print(path)\n",
    "        print('---------------')\n",
    "    sys.path.append(path)\n",
    "\n",
    "get_root_path(n=1)\n",
    "print()\n",
    "sys.path"
   ]
  },
  {
   "cell_type": "code",
   "execution_count": 4,
   "metadata": {},
   "outputs": [],
   "source": [
    "import pandas as pd\n",
    "import numpy as np\n",
    "import sklearn\n",
    "from sklearn import preprocessing\n",
    "import seaborn as sns\n",
    "import matplotlib.pyplot as plt\n",
    "from Utils.preprocesado1 import preprocesado as prep1"
   ]
  },
  {
   "cell_type": "code",
   "execution_count": 6,
   "metadata": {},
   "outputs": [
    {
     "name": "stdout",
     "output_type": "stream",
     "text": [
      "<class 'pandas.core.frame.DataFrame'>\n",
      "RangeIndex: 1000000 entries, 0 to 999999\n",
      "Data columns (total 13 columns):\n",
      " #   Column         Non-Null Count    Dtype  \n",
      "---  ------         --------------    -----  \n",
      " 0   company        1000000 non-null  object \n",
      " 1   origin         1000000 non-null  object \n",
      " 2   destination    1000000 non-null  object \n",
      " 3   departure      1000000 non-null  object \n",
      " 4   arrival        1000000 non-null  object \n",
      " 5   duration       1000000 non-null  float64\n",
      " 6   vehicle_type   1000000 non-null  object \n",
      " 7   vehicle_class  1000000 non-null  object \n",
      " 8   price          1000000 non-null  float64\n",
      " 9   fare           1000000 non-null  object \n",
      " 10  seats          1000000 non-null  int64  \n",
      " 11  meta           1000000 non-null  object \n",
      " 12  insert_date    1000000 non-null  object \n",
      "dtypes: float64(2), int64(1), object(10)\n",
      "memory usage: 99.2+ MB\n"
     ]
    }
   ],
   "source": [
    "trenes = pd.read_csv(\"/Users/valdecantos/Documents/The_Bridge/Alumno_Folder/Alumno_Curso/datascience_thebridge_9_21/Proyecto ML/SRC/Data/RAW/viajes-en-tren-sample.csv\")\n",
    "trenes.info()"
   ]
  },
  {
   "cell_type": "code",
   "execution_count": 7,
   "metadata": {},
   "outputs": [
    {
     "name": "stderr",
     "output_type": "stream",
     "text": [
      "/Users/valdecantos/Documents/The_Bridge/Alumno_Folder/Alumno_Curso/datascience_thebridge_9_21/Proyecto ML/SRC/Utils/preprocesado1.py:39: FutureWarning: The default value of regex will change from True to False in a future version.\n",
      "  df['vehicle_type'] = df['vehicle_type'].str.replace('REGIONAL.','REG.EXP')\n",
      "/Users/valdecantos/Documents/The_Bridge/Alumno_Folder/Alumno_Curso/datascience_thebridge_9_21/Proyecto ML/SRC/Utils/preprocesado1.py:41: FutureWarning: The default value of regex will change from True to False in a future version.\n",
      "  df['vehicle_type'] = df['vehicle_type'].str.replace('REG.EXP.','REG.EXP')\n"
     ]
    }
   ],
   "source": [
    "DF_modificado = prep1(trenes);"
   ]
  },
  {
   "cell_type": "code",
   "execution_count": 9,
   "metadata": {},
   "outputs": [],
   "source": [
    "X = DF_modificado[['duration','seats','origin_le','destination_le','vehicle_type_le','vehicle_class_le','fare_le','Month','Day','Day of the week','Hour']]\n",
    "y = DF_modificado[\"price\"]"
   ]
  },
  {
   "cell_type": "code",
   "execution_count": 10,
   "metadata": {},
   "outputs": [
    {
     "data": {
      "text/plain": [
       "LinearRegression(n_jobs=-1)"
      ]
     },
     "execution_count": 10,
     "metadata": {},
     "output_type": "execute_result"
    }
   ],
   "source": [
    "from sklearn.linear_model import LinearRegression\n",
    "from sklearn.model_selection import train_test_split\n",
    "from sklearn.metrics import mean_squared_error, mean_absolute_error, accuracy_score, r2_score\n",
    "\n",
    "model = LinearRegression(n_jobs=-1)\n",
    "X_train, X_test, y_train, y_test = train_test_split(X, y , test_size = 0.2)\n",
    "\n",
    "model.fit(X_train, y_train)"
   ]
  },
  {
   "cell_type": "code",
   "execution_count": 6,
   "metadata": {},
   "outputs": [
    {
     "name": "stdout",
     "output_type": "stream",
     "text": [
      "MSE 245.8446582899709\n",
      "RMSE 15.679434246488963\n",
      "MAE 12.354495718693947\n",
      "R2 score 0.35535064593416743\n"
     ]
    }
   ],
   "source": [
    "print(\"MSE\", mean_squared_error(y_test, model.predict(X_test)))\n",
    "print(\"RMSE\", np.sqrt(mean_squared_error(y_test, model.predict(X_test))))\n",
    "print(\"MAE\", mean_absolute_error(y_test, model.predict(X_test)))\n",
    "print('R2 score', r2_score(y_test, model.predict(X_test)))"
   ]
  },
  {
   "cell_type": "code",
   "execution_count": 11,
   "metadata": {},
   "outputs": [
    {
     "name": "stderr",
     "output_type": "stream",
     "text": [
      "/Library/Frameworks/Python.framework/Versions/3.7/lib/python3.7/site-packages/seaborn/_decorators.py:43: FutureWarning: Pass the following variables as keyword args: x, y. From version 0.12, the only valid positional argument will be `data`, and passing other arguments without an explicit keyword will result in an error or misinterpretation.\n",
      "  FutureWarning\n"
     ]
    },
    {
     "data": {
      "text/plain": [
       "<AxesSubplot:xlabel='price'>"
      ]
     },
     "execution_count": 11,
     "metadata": {},
     "output_type": "execute_result"
    },
    {
     "data": {
      "image/png": "[encoded data removed]",
      "text/plain": [
       "<Figure size 432x288 with 1 Axes>"
      ]
     },
     "metadata": {
      "needs_background": "light"
     },
     "output_type": "display_data"
    }
   ],
   "source": [
    "sns.regplot(y_test, model.predict(X_test))"
   ]
  },
  {
   "cell_type": "code",
   "execution_count": null,
   "metadata": {},
   "outputs": [],
   "source": [
    "import pickle\n",
    "\n",
    "filename = 'trenes_lineal_Reg_model'\n",
    "\n",
    "with open(filename, 'wb') as archivo_salida:\n",
    "    pickle.dump(model, archivo_salida)"
   ]
  }
 ],
 "metadata": {
  "interpreter": {
   "hash": "aee8b7b246df8f9039afb4144a1f6fd8d2ca17a180786b69acc140d282b71a49"
  },
  "kernelspec": {
   "display_name": "Python 3.7.4 64-bit",
   "language": "python",
   "name": "python3"
  },
  "language_info": {
   "codemirror_mode": {
    "name": "ipython",
    "version": 3
   },
   "file_extension": ".py",
   "mimetype": "text/x-python",
   "name": "python",
   "nbconvert_exporter": "python",
   "pygments_lexer": "ipython3",
   "version": "3.7.4"
  },
  "orig_nbformat": 4
 },
 "nbformat": 4,
 "nbformat_minor": 2
}
