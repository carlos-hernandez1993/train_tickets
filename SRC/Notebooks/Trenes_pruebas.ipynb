{
 "cells": [
  {
   "cell_type": "code",
   "execution_count": 1,
   "metadata": {},
   "outputs": [],
   "source": [
    "import pandas as pd\n",
    "import numpy as np\n",
    "import sklearn\n",
    "from sklearn import preprocessing\n",
    "import seaborn as sns\n",
    "import matplotlib.pyplot as plt"
   ]
  },
  {
   "cell_type": "code",
   "execution_count": 2,
   "metadata": {},
   "outputs": [
    {
     "name": "stdout",
     "output_type": "stream",
     "text": [
      "<class 'pandas.core.frame.DataFrame'>\n",
      "RangeIndex: 1000000 entries, 0 to 999999\n",
      "Data columns (total 13 columns):\n",
      " #   Column         Non-Null Count    Dtype  \n",
      "---  ------         --------------    -----  \n",
      " 0   company        1000000 non-null  object \n",
      " 1   origin         1000000 non-null  object \n",
      " 2   destination    1000000 non-null  object \n",
      " 3   departure      1000000 non-null  object \n",
      " 4   arrival        1000000 non-null  object \n",
      " 5   duration       1000000 non-null  float64\n",
      " 6   vehicle_type   1000000 non-null  object \n",
      " 7   vehicle_class  1000000 non-null  object \n",
      " 8   price          1000000 non-null  float64\n",
      " 9   fare           1000000 non-null  object \n",
      " 10  seats          1000000 non-null  int64  \n",
      " 11  meta           1000000 non-null  object \n",
      " 12  insert_date    1000000 non-null  object \n",
      "dtypes: float64(2), int64(1), object(10)\n",
      "memory usage: 99.2+ MB\n"
     ]
    }
   ],
   "source": [
    "trenes = pd.read_csv(\"/Users/valdecantos/Documents/The_Bridge/Alumno_Folder/Alumno_Curso/datascience_thebridge_9_21/Proyecto ML/viajes-en-tren-sample.csv\")\n",
    "trenes.info()"
   ]
  },
  {
   "cell_type": "code",
   "execution_count": 3,
   "metadata": {},
   "outputs": [
    {
     "data": {
      "text/html": [
       "<div>\n",
       "<style scoped>\n",
       "    .dataframe tbody tr th:only-of-type {\n",
       "        vertical-align: middle;\n",
       "    }\n",
       "\n",
       "    .dataframe tbody tr th {\n",
       "        vertical-align: top;\n",
       "    }\n",
       "\n",
       "    .dataframe thead th {\n",
       "        text-align: right;\n",
       "    }\n",
       "</style>\n",
       "<table border=\"1\" class=\"dataframe\">\n",
       "  <thead>\n",
       "    <tr style=\"text-align: right;\">\n",
       "      <th></th>\n",
       "      <th>company</th>\n",
       "      <th>origin</th>\n",
       "      <th>destination</th>\n",
       "      <th>departure</th>\n",
       "      <th>arrival</th>\n",
       "      <th>duration</th>\n",
       "      <th>vehicle_type</th>\n",
       "      <th>vehicle_class</th>\n",
       "      <th>price</th>\n",
       "      <th>fare</th>\n",
       "      <th>seats</th>\n",
       "      <th>meta</th>\n",
       "      <th>insert_date</th>\n",
       "    </tr>\n",
       "  </thead>\n",
       "  <tbody>\n",
       "    <tr>\n",
       "      <th>0</th>\n",
       "      <td>renfe</td>\n",
       "      <td>MADRID</td>\n",
       "      <td>BARCELONA</td>\n",
       "      <td>2021-01-26 16:30:00</td>\n",
       "      <td>2021-01-26 19:15:00</td>\n",
       "      <td>2.75</td>\n",
       "      <td>AVE</td>\n",
       "      <td>Turista</td>\n",
       "      <td>64.25</td>\n",
       "      <td>Promo +</td>\n",
       "      <td>325</td>\n",
       "      <td>{\"Turista\": {\"Promo +\": {\"price\": 64.25, \"seat...</td>\n",
       "      <td>2020-12-14 12:00:00</td>\n",
       "    </tr>\n",
       "    <tr>\n",
       "      <th>1</th>\n",
       "      <td>renfe</td>\n",
       "      <td>BARCELONA</td>\n",
       "      <td>ZARAGOZA</td>\n",
       "      <td>2021-02-12 08:30:00</td>\n",
       "      <td>2021-02-12 10:16:48</td>\n",
       "      <td>1.78</td>\n",
       "      <td>AVE</td>\n",
       "      <td>Turista</td>\n",
       "      <td>33.50</td>\n",
       "      <td>Promo +</td>\n",
       "      <td>289</td>\n",
       "      <td>{\"Turista\": {\"Promo +\": {\"price\": 33.5, \"seats...</td>\n",
       "      <td>2021-01-22 06:00:00</td>\n",
       "    </tr>\n",
       "    <tr>\n",
       "      <th>2</th>\n",
       "      <td>renfe</td>\n",
       "      <td>MADRID</td>\n",
       "      <td>LEON</td>\n",
       "      <td>2021-01-21 13:25:00</td>\n",
       "      <td>2021-01-21 16:44:12</td>\n",
       "      <td>3.32</td>\n",
       "      <td>LD-AVE</td>\n",
       "      <td>Turista con enlace</td>\n",
       "      <td>41.85</td>\n",
       "      <td>Promo +</td>\n",
       "      <td>181</td>\n",
       "      <td>{\"Turista con enlace\": {\"Promo +\": {\"price\": 4...</td>\n",
       "      <td>2021-01-18 12:00:00</td>\n",
       "    </tr>\n",
       "    <tr>\n",
       "      <th>3</th>\n",
       "      <td>renfe</td>\n",
       "      <td>MADRID</td>\n",
       "      <td>VALENCIA</td>\n",
       "      <td>2021-02-21 06:20:00</td>\n",
       "      <td>2021-02-21 12:54:48</td>\n",
       "      <td>6.58</td>\n",
       "      <td>REGIONAL</td>\n",
       "      <td>Turista</td>\n",
       "      <td>28.35</td>\n",
       "      <td>Adulto ida</td>\n",
       "      <td>188</td>\n",
       "      <td>{\"Turista\": {\"Adulto ida\": {\"price\": 28.35, \"s...</td>\n",
       "      <td>2021-01-17 12:00:00</td>\n",
       "    </tr>\n",
       "    <tr>\n",
       "      <th>4</th>\n",
       "      <td>renfe</td>\n",
       "      <td>MADRID</td>\n",
       "      <td>BARCELONA</td>\n",
       "      <td>2020-10-27 07:40:00</td>\n",
       "      <td>2020-10-27 13:55:00</td>\n",
       "      <td>6.25</td>\n",
       "      <td>AVE-LD</td>\n",
       "      <td>Turista con enlace</td>\n",
       "      <td>43.50</td>\n",
       "      <td>Promo +</td>\n",
       "      <td>207</td>\n",
       "      <td>{\"Turista con enlace\": {\"Promo +\": {\"price\": 4...</td>\n",
       "      <td>2020-10-16 08:00:00</td>\n",
       "    </tr>\n",
       "  </tbody>\n",
       "</table>\n",
       "</div>"
      ],
      "text/plain": [
       "  company     origin destination            departure              arrival  \\\n",
       "0   renfe     MADRID   BARCELONA  2021-01-26 16:30:00  2021-01-26 19:15:00   \n",
       "1   renfe  BARCELONA    ZARAGOZA  2021-02-12 08:30:00  2021-02-12 10:16:48   \n",
       "2   renfe     MADRID        LEON  2021-01-21 13:25:00  2021-01-21 16:44:12   \n",
       "3   renfe     MADRID    VALENCIA  2021-02-21 06:20:00  2021-02-21 12:54:48   \n",
       "4   renfe     MADRID   BARCELONA  2020-10-27 07:40:00  2020-10-27 13:55:00   \n",
       "\n",
       "   duration vehicle_type       vehicle_class  price        fare  seats  \\\n",
       "0      2.75          AVE             Turista  64.25     Promo +    325   \n",
       "1      1.78          AVE             Turista  33.50     Promo +    289   \n",
       "2      3.32       LD-AVE  Turista con enlace  41.85     Promo +    181   \n",
       "3      6.58     REGIONAL             Turista  28.35  Adulto ida    188   \n",
       "4      6.25       AVE-LD  Turista con enlace  43.50     Promo +    207   \n",
       "\n",
       "                                                meta          insert_date  \n",
       "0  {\"Turista\": {\"Promo +\": {\"price\": 64.25, \"seat...  2020-12-14 12:00:00  \n",
       "1  {\"Turista\": {\"Promo +\": {\"price\": 33.5, \"seats...  2021-01-22 06:00:00  \n",
       "2  {\"Turista con enlace\": {\"Promo +\": {\"price\": 4...  2021-01-18 12:00:00  \n",
       "3  {\"Turista\": {\"Adulto ida\": {\"price\": 28.35, \"s...  2021-01-17 12:00:00  \n",
       "4  {\"Turista con enlace\": {\"Promo +\": {\"price\": 4...  2020-10-16 08:00:00  "
      ]
     },
     "execution_count": 3,
     "metadata": {},
     "output_type": "execute_result"
    }
   ],
   "source": [
    "trenes.head()\n"
   ]
  },
  {
   "cell_type": "markdown",
   "metadata": {},
   "source": [
    "Veamos en las columnas la cantidad de valores diferentes que presentan. Las vamos a convertir en datos numéricos"
   ]
  },
  {
   "cell_type": "code",
   "execution_count": 4,
   "metadata": {},
   "outputs": [
    {
     "name": "stdout",
     "output_type": "stream",
     "text": [
      "['MADRID' 'BARCELONA' 'CÓRDOBA' 'SEVILLA' 'ZARAGOZA' 'CORDOBA' 'VALENCIA'\n",
      " 'VALLADOLID' 'LEÓN' 'MALAGA' 'MÁLAGA' 'LEON']\n",
      "Total de ciudades: 12\n"
     ]
    }
   ],
   "source": [
    "# COLUMNA  DE CIUDADES DE ORIGEN\n",
    "print(trenes[\"origin\"].unique())\n",
    "print(\"Total de ciudades:\",len(trenes[\"origin\"].unique()))"
   ]
  },
  {
   "cell_type": "code",
   "execution_count": 5,
   "metadata": {},
   "outputs": [
    {
     "name": "stdout",
     "output_type": "stream",
     "text": [
      "['MADRID' 'BARCELONA' 'CORDOBA' 'SEVILLA' 'ZARAGOZA' 'VALENCIA'\n",
      " 'VALLADOLID' 'LEON' 'MALAGA']\n",
      "Total de ciudades: 9\n"
     ]
    }
   ],
   "source": [
    "trenes['origin'] = trenes['origin'].str.replace('CÓRDOBA','CORDOBA')\n",
    "trenes['origin'] = trenes['origin'].str.replace('LEÓN','LEON')\n",
    "trenes['origin'] = trenes['origin'].str.replace('MÁLAGA','MALAGA')\n",
    "print(trenes[\"origin\"].unique())\n",
    "print(\"Total de ciudades:\",len(trenes[\"origin\"].unique()))\n",
    "\n",
    "le = preprocessing.LabelEncoder()\n",
    "le.fit(trenes['origin'])\n",
    "trenes['origin_le'] = le.transform(trenes['origin'])"
   ]
  },
  {
   "cell_type": "code",
   "execution_count": 6,
   "metadata": {},
   "outputs": [
    {
     "name": "stdout",
     "output_type": "stream",
     "text": [
      "['BARCELONA' 'ZARAGOZA' 'LEON' 'VALENCIA' 'MADRID' 'VALLADOLID' 'SEVILLA'\n",
      " 'MALAGA' 'CORDOBA']\n",
      "Total de ciudades: 9\n"
     ]
    }
   ],
   "source": [
    "#CIUDADES DE DESTINO\n",
    "\n",
    "trenes['destination'] = trenes['destination'].str.replace('CÓRDOBA','CORDOBA')\n",
    "trenes['destination'] = trenes['destination'].str.replace('LEÓN','LEON')\n",
    "trenes['destination'] = trenes['destination'].str.replace('MÁLAGA','MALAGA')\n",
    "print(trenes[\"destination\"].unique())\n",
    "print(\"Total de ciudades:\",len(trenes[\"destination\"].unique()))\n",
    "\n",
    "le.fit(trenes['destination'])\n",
    "trenes['destination_le'] = le.transform(trenes['destination'])"
   ]
  },
  {
   "cell_type": "code",
   "execution_count": 7,
   "metadata": {},
   "outputs": [
    {
     "name": "stdout",
     "output_type": "stream",
     "text": [
      "['AVE' 'LD-AVE' 'REGIONAL' 'AVE-LD' 'ALVIA' 'AVANT' 'EUROMED' 'REG.EXP.'\n",
      " 'Intercity' 'TORRE ORO' 'MD' 'LD' 'MD-AVE' 'LD-AVANT' 'AVE-MD' 'MD-LD'\n",
      " 'LD-MD' 'INTERCITY']\n",
      "Tipo de trenes: 18\n"
     ]
    }
   ],
   "source": [
    "#COLUMNA DE TIPOS DE TRENES\n",
    "print(trenes[\"vehicle_type\"].unique())\n",
    "print(\"Tipo de trenes:\",len(trenes[\"vehicle_type\"].unique()))"
   ]
  },
  {
   "cell_type": "code",
   "execution_count": 8,
   "metadata": {},
   "outputs": [
    {
     "name": "stderr",
     "output_type": "stream",
     "text": [
      "/Library/Frameworks/Python.framework/Versions/3.7/lib/python3.7/site-packages/ipykernel_launcher.py:9: FutureWarning: The default value of regex will change from True to False in a future version.\n",
      "  if __name__ == '__main__':\n",
      "/Library/Frameworks/Python.framework/Versions/3.7/lib/python3.7/site-packages/ipykernel_launcher.py:11: FutureWarning: The default value of regex will change from True to False in a future version.\n",
      "  # This is added back by InteractiveShellApp.init_path()\n"
     ]
    },
    {
     "name": "stdout",
     "output_type": "stream",
     "text": [
      "['AVE' 'REG.EXP' 'ALVIA' 'AVANT' 'EUROMED' 'INTERCITY' 'TORRE ORO' 'MD'\n",
      " 'LD']\n",
      "Tipo de trenes: 9\n"
     ]
    }
   ],
   "source": [
    "\n",
    "trenes['vehicle_type'] = trenes['vehicle_type'].str.replace('LD-AVE','AVE')\n",
    "trenes['vehicle_type'] = trenes['vehicle_type'].str.replace('AVE-LD','AVE')\n",
    "trenes['vehicle_type'] = trenes['vehicle_type'].str.replace('MD-AVE','AVE')\n",
    "trenes['vehicle_type'] = trenes['vehicle_type'].str.replace('AVE-MD','AVE')\n",
    "trenes['vehicle_type'] = trenes['vehicle_type'].str.replace('REGIONAL','REG.EXP')\n",
    "trenes['vehicle_type'] = trenes['vehicle_type'].str.replace('MD-LD','MD')\n",
    "trenes['vehicle_type'] = trenes['vehicle_type'].str.replace('LD-MD','LD')\n",
    "trenes['vehicle_type'] = trenes['vehicle_type'].str.replace('LD-AVANT','AVANT')\n",
    "trenes['vehicle_type'] = trenes['vehicle_type'].str.replace('REGIONAL.','REG.EXP')\n",
    "trenes['vehicle_type'] = trenes['vehicle_type'].str.replace('Intercity','INTERCITY')\n",
    "trenes['vehicle_type'] = trenes['vehicle_type'].str.replace('REG.EXP.','REG.EXP')\n",
    "\n",
    "print(trenes[\"vehicle_type\"].unique())\n",
    "print(\"Tipo de trenes:\",len(trenes[\"vehicle_type\"].unique()))\n",
    "\n",
    "le.fit(trenes['vehicle_type'])\n",
    "trenes['vehicle_type_le'] = le.transform(trenes['vehicle_type'])"
   ]
  },
  {
   "cell_type": "code",
   "execution_count": 9,
   "metadata": {},
   "outputs": [
    {
     "name": "stdout",
     "output_type": "stream",
     "text": [
      "['Turista' 'Turista con enlace' 'Turista Plus' 'Turista - Turista Plus'\n",
      " 'Turista Plus - Turista']\n",
      "Clase: 5\n"
     ]
    }
   ],
   "source": [
    "#COLUMNA DE CLASE \n",
    "print(trenes[\"vehicle_class\"].unique())\n",
    "print(\"Clase:\",len(trenes[\"vehicle_class\"].unique()))"
   ]
  },
  {
   "cell_type": "code",
   "execution_count": 10,
   "metadata": {},
   "outputs": [
    {
     "name": "stdout",
     "output_type": "stream",
     "text": [
      "['Turista' 'Turista con enlace' 'Turista Plus']\n",
      "Clase: 3\n"
     ]
    }
   ],
   "source": [
    "trenes['vehicle_class'] = trenes['vehicle_class'].str.replace('Turista - Turista Plus','Turista')\n",
    "trenes['vehicle_class'] = trenes['vehicle_class'].str.replace('Turista Plus - Turista','Turista Plus')\n",
    "\n",
    "print(trenes[\"vehicle_class\"].unique())\n",
    "print(\"Clase:\",len(trenes[\"vehicle_class\"].unique()))\n",
    "\n",
    "le.fit(trenes['vehicle_class'])\n",
    "trenes['vehicle_class_le'] = le.transform(trenes['vehicle_class'])"
   ]
  },
  {
   "cell_type": "code",
   "execution_count": 11,
   "metadata": {},
   "outputs": [
    {
     "name": "stdout",
     "output_type": "stream",
     "text": [
      "['Promo +' 'Adulto ida' 'Flexible']\n"
     ]
    }
   ],
   "source": [
    "#COLUMNA DE TARIFA\n",
    "print(trenes[\"fare\"].unique())\n",
    "\n",
    "le.fit(trenes['fare'])\n",
    "trenes['fare_le'] = le.transform(trenes['fare'])"
   ]
  },
  {
   "cell_type": "code",
   "execution_count": 12,
   "metadata": {},
   "outputs": [
    {
     "name": "stdout",
     "output_type": "stream",
     "text": [
      "['renfe']\n"
     ]
    }
   ],
   "source": [
    "#COLUMNA DE COMPAÑIA\n",
    "print(trenes[\"company\"].unique())"
   ]
  },
  {
   "cell_type": "code",
   "execution_count": 13,
   "metadata": {},
   "outputs": [],
   "source": [
    "trenes['departure'] = pd.to_datetime(trenes['departure'])\n",
    "trenes['Month'] = trenes['departure'].dt.month\n",
    "trenes['Day'] = trenes['departure'].dt.day\n",
    "trenes['Day of the week'] = trenes['departure'].dt.dayofweek\n",
    "trenes['Hour'] = trenes['departure'].dt.hour"
   ]
  },
  {
   "cell_type": "code",
   "execution_count": 14,
   "metadata": {},
   "outputs": [
    {
     "data": {
      "text/html": [
       "<div>\n",
       "<style scoped>\n",
       "    .dataframe tbody tr th:only-of-type {\n",
       "        vertical-align: middle;\n",
       "    }\n",
       "\n",
       "    .dataframe tbody tr th {\n",
       "        vertical-align: top;\n",
       "    }\n",
       "\n",
       "    .dataframe thead th {\n",
       "        text-align: right;\n",
       "    }\n",
       "</style>\n",
       "<table border=\"1\" class=\"dataframe\">\n",
       "  <thead>\n",
       "    <tr style=\"text-align: right;\">\n",
       "      <th></th>\n",
       "      <th>company</th>\n",
       "      <th>origin</th>\n",
       "      <th>destination</th>\n",
       "      <th>departure</th>\n",
       "      <th>arrival</th>\n",
       "      <th>duration</th>\n",
       "      <th>vehicle_type</th>\n",
       "      <th>vehicle_class</th>\n",
       "      <th>price</th>\n",
       "      <th>fare</th>\n",
       "      <th>...</th>\n",
       "      <th>insert_date</th>\n",
       "      <th>origin_le</th>\n",
       "      <th>destination_le</th>\n",
       "      <th>vehicle_type_le</th>\n",
       "      <th>vehicle_class_le</th>\n",
       "      <th>fare_le</th>\n",
       "      <th>Month</th>\n",
       "      <th>Day</th>\n",
       "      <th>Day of the week</th>\n",
       "      <th>Hour</th>\n",
       "    </tr>\n",
       "  </thead>\n",
       "  <tbody>\n",
       "    <tr>\n",
       "      <th>0</th>\n",
       "      <td>renfe</td>\n",
       "      <td>MADRID</td>\n",
       "      <td>BARCELONA</td>\n",
       "      <td>2021-01-26 16:30:00</td>\n",
       "      <td>2021-01-26 19:15:00</td>\n",
       "      <td>2.75</td>\n",
       "      <td>AVE</td>\n",
       "      <td>Turista</td>\n",
       "      <td>64.25</td>\n",
       "      <td>Promo +</td>\n",
       "      <td>...</td>\n",
       "      <td>2020-12-14 12:00:00</td>\n",
       "      <td>3</td>\n",
       "      <td>0</td>\n",
       "      <td>2</td>\n",
       "      <td>0</td>\n",
       "      <td>2</td>\n",
       "      <td>1</td>\n",
       "      <td>26</td>\n",
       "      <td>1</td>\n",
       "      <td>16</td>\n",
       "    </tr>\n",
       "    <tr>\n",
       "      <th>1</th>\n",
       "      <td>renfe</td>\n",
       "      <td>BARCELONA</td>\n",
       "      <td>ZARAGOZA</td>\n",
       "      <td>2021-02-12 08:30:00</td>\n",
       "      <td>2021-02-12 10:16:48</td>\n",
       "      <td>1.78</td>\n",
       "      <td>AVE</td>\n",
       "      <td>Turista</td>\n",
       "      <td>33.50</td>\n",
       "      <td>Promo +</td>\n",
       "      <td>...</td>\n",
       "      <td>2021-01-22 06:00:00</td>\n",
       "      <td>0</td>\n",
       "      <td>8</td>\n",
       "      <td>2</td>\n",
       "      <td>0</td>\n",
       "      <td>2</td>\n",
       "      <td>2</td>\n",
       "      <td>12</td>\n",
       "      <td>4</td>\n",
       "      <td>8</td>\n",
       "    </tr>\n",
       "    <tr>\n",
       "      <th>2</th>\n",
       "      <td>renfe</td>\n",
       "      <td>MADRID</td>\n",
       "      <td>LEON</td>\n",
       "      <td>2021-01-21 13:25:00</td>\n",
       "      <td>2021-01-21 16:44:12</td>\n",
       "      <td>3.32</td>\n",
       "      <td>AVE</td>\n",
       "      <td>Turista con enlace</td>\n",
       "      <td>41.85</td>\n",
       "      <td>Promo +</td>\n",
       "      <td>...</td>\n",
       "      <td>2021-01-18 12:00:00</td>\n",
       "      <td>3</td>\n",
       "      <td>2</td>\n",
       "      <td>2</td>\n",
       "      <td>2</td>\n",
       "      <td>2</td>\n",
       "      <td>1</td>\n",
       "      <td>21</td>\n",
       "      <td>3</td>\n",
       "      <td>13</td>\n",
       "    </tr>\n",
       "  </tbody>\n",
       "</table>\n",
       "<p>3 rows × 22 columns</p>\n",
       "</div>"
      ],
      "text/plain": [
       "  company     origin destination           departure              arrival  \\\n",
       "0   renfe     MADRID   BARCELONA 2021-01-26 16:30:00  2021-01-26 19:15:00   \n",
       "1   renfe  BARCELONA    ZARAGOZA 2021-02-12 08:30:00  2021-02-12 10:16:48   \n",
       "2   renfe     MADRID        LEON 2021-01-21 13:25:00  2021-01-21 16:44:12   \n",
       "\n",
       "   duration vehicle_type       vehicle_class  price     fare  ...  \\\n",
       "0      2.75          AVE             Turista  64.25  Promo +  ...   \n",
       "1      1.78          AVE             Turista  33.50  Promo +  ...   \n",
       "2      3.32          AVE  Turista con enlace  41.85  Promo +  ...   \n",
       "\n",
       "           insert_date origin_le destination_le  vehicle_type_le  \\\n",
       "0  2020-12-14 12:00:00         3              0                2   \n",
       "1  2021-01-22 06:00:00         0              8                2   \n",
       "2  2021-01-18 12:00:00         3              2                2   \n",
       "\n",
       "   vehicle_class_le  fare_le  Month  Day  Day of the week  Hour  \n",
       "0                 0        2      1   26                1    16  \n",
       "1                 0        2      2   12                4     8  \n",
       "2                 2        2      1   21                3    13  \n",
       "\n",
       "[3 rows x 22 columns]"
      ]
     },
     "execution_count": 14,
     "metadata": {},
     "output_type": "execute_result"
    }
   ],
   "source": [
    "trenes.head(3)"
   ]
  },
  {
   "cell_type": "markdown",
   "metadata": {},
   "source": [
    "Construimos el DataFrame sobre el que poder modelar"
   ]
  },
  {
   "cell_type": "code",
   "execution_count": 15,
   "metadata": {},
   "outputs": [
    {
     "name": "stdout",
     "output_type": "stream",
     "text": [
      "<class 'pandas.core.frame.DataFrame'>\n",
      "RangeIndex: 1000000 entries, 0 to 999999\n",
      "Data columns (total 12 columns):\n",
      " #   Column            Non-Null Count    Dtype  \n",
      "---  ------            --------------    -----  \n",
      " 0   duration          1000000 non-null  float64\n",
      " 1   price             1000000 non-null  float64\n",
      " 2   seats             1000000 non-null  int64  \n",
      " 3   origin_le         1000000 non-null  int64  \n",
      " 4   destination_le    1000000 non-null  int64  \n",
      " 5   vehicle_type_le   1000000 non-null  int64  \n",
      " 6   vehicle_class_le  1000000 non-null  int64  \n",
      " 7   fare_le           1000000 non-null  int64  \n",
      " 8   Month             1000000 non-null  int64  \n",
      " 9   Day               1000000 non-null  int64  \n",
      " 10  Day of the week   1000000 non-null  int64  \n",
      " 11  Hour              1000000 non-null  int64  \n",
      "dtypes: float64(2), int64(10)\n",
      "memory usage: 91.6 MB\n"
     ]
    }
   ],
   "source": [
    "df = trenes.drop(['company', 'origin', 'destination', 'departure', 'arrival', 'vehicle_type', 'vehicle_class', 'fare', 'meta', 'insert_date'], axis=1)\n",
    "df.info()"
   ]
  },
  {
   "cell_type": "markdown",
   "metadata": {},
   "source": [
    "Analizamos las variables"
   ]
  },
  {
   "cell_type": "code",
   "execution_count": 16,
   "metadata": {},
   "outputs": [
    {
     "data": {
      "image/png": "[encoded data removed]",
      "text/plain": [
       "<Figure size 720x720 with 2 Axes>"
      ]
     },
     "metadata": {
      "needs_background": "light"
     },
     "output_type": "display_data"
    }
   ],
   "source": [
    "plt.subplots(figsize=(10,10))\n",
    "sns.heatmap(df.corr(),\n",
    "            vmin=-1,\n",
    "            vmax=1,\n",
    "            annot=True,\n",
    "            cmap=sns.diverging_palette(10, 880, s=85, l=25, n=7),\n",
    "            square=True,\n",
    "            linewidths=.5);"
   ]
  },
  {
   "cell_type": "code",
   "execution_count": 18,
   "metadata": {},
   "outputs": [
    {
     "name": "stderr",
     "output_type": "stream",
     "text": [
      "/Library/Frameworks/Python.framework/Versions/3.7/lib/python3.7/site-packages/seaborn/distributions.py:2619: FutureWarning: `distplot` is a deprecated function and will be removed in a future version. Please adapt your code to use either `displot` (a figure-level function with similar flexibility) or `kdeplot` (an axes-level function for kernel density plots).\n",
      "  warnings.warn(msg, FutureWarning)\n"
     ]
    },
    {
     "data": {
      "text/plain": [
       "<AxesSubplot:xlabel='price', ylabel='Density'>"
      ]
     },
     "execution_count": 18,
     "metadata": {},
     "output_type": "execute_result"
    },
    {
     "data": {
      "image/png": "[encoded data removed]",
      "text/plain": [
       "<Figure size 432x288 with 1 Axes>"
      ]
     },
     "metadata": {
      "needs_background": "light"
     },
     "output_type": "display_data"
    }
   ],
   "source": [
    "sns.distplot(df['price'], hist = False)\n"
   ]
  },
  {
   "cell_type": "code",
   "execution_count": 19,
   "metadata": {},
   "outputs": [
    {
     "name": "stderr",
     "output_type": "stream",
     "text": [
      "/Library/Frameworks/Python.framework/Versions/3.7/lib/python3.7/site-packages/seaborn/distributions.py:2619: FutureWarning: `distplot` is a deprecated function and will be removed in a future version. Please adapt your code to use either `displot` (a figure-level function with similar flexibility) or `histplot` (an axes-level function for histograms).\n",
      "  warnings.warn(msg, FutureWarning)\n"
     ]
    },
    {
     "data": {
      "text/plain": [
       "<AxesSubplot:xlabel='price', ylabel='Density'>"
      ]
     },
     "execution_count": 19,
     "metadata": {},
     "output_type": "execute_result"
    },
    {
     "data": {
      "image/png": "[encoded data removed]",
      "text/plain": [
       "<Figure size 432x288 with 1 Axes>"
      ]
     },
     "metadata": {
      "needs_background": "light"
     },
     "output_type": "display_data"
    }
   ],
   "source": [
    "sns.distplot(df['price'],\n",
    "            kde_kws={\"color\": \"k\", \"lw\": 3, \"label\": \"KDE\"},\n",
    "            hist_kws={\"histtype\": \"step\", \"linewidth\": 3,\n",
    "                      \"alpha\": 1, \"color\": \"g\"})"
   ]
  },
  {
   "cell_type": "code",
   "execution_count": 23,
   "metadata": {},
   "outputs": [],
   "source": [
    "#df1 = np.log(df+1)"
   ]
  },
  {
   "cell_type": "code",
   "execution_count": 25,
   "metadata": {},
   "outputs": [
    {
     "name": "stderr",
     "output_type": "stream",
     "text": [
      "/Library/Frameworks/Python.framework/Versions/3.7/lib/python3.7/site-packages/seaborn/distributions.py:2619: FutureWarning: `distplot` is a deprecated function and will be removed in a future version. Please adapt your code to use either `displot` (a figure-level function with similar flexibility) or `histplot` (an axes-level function for histograms).\n",
      "  warnings.warn(msg, FutureWarning)\n"
     ]
    },
    {
     "data": {
      "text/plain": [
       "<AxesSubplot:xlabel='price', ylabel='Density'>"
      ]
     },
     "execution_count": 25,
     "metadata": {},
     "output_type": "execute_result"
    },
    {
     "data": {
      "image/png": "[encoded data removed]",
      "text/plain": [
       "<Figure size 432x288 with 1 Axes>"
      ]
     },
     "metadata": {
      "needs_background": "light"
     },
     "output_type": "display_data"
    }
   ],
   "source": [
    "#sns.distplot(df1['price'],\n",
    "            #kde_kws={\"color\": \"k\", \"lw\": 3, \"label\": \"KDE\"},\n",
    "            #hist_kws={\"histtype\": \"step\", \"linewidth\": 3,\n",
    "                      #\"alpha\": 1, \"color\": \"g\"})"
   ]
  },
  {
   "cell_type": "markdown",
   "metadata": {},
   "source": [
    "Regresion lineal"
   ]
  },
  {
   "cell_type": "code",
   "execution_count": 19,
   "metadata": {},
   "outputs": [
    {
     "data": {
      "text/plain": [
       "Index(['duration', 'price', 'seats', 'origin_le', 'destination_le',\n",
       "       'vehicle_type_le', 'vehicle_class_le', 'fare_le', 'Month', 'Day',\n",
       "       'Day of the week', 'Hour'],\n",
       "      dtype='object')"
      ]
     },
     "execution_count": 19,
     "metadata": {},
     "output_type": "execute_result"
    }
   ],
   "source": [
    "df.columns"
   ]
  },
  {
   "cell_type": "code",
   "execution_count": 20,
   "metadata": {},
   "outputs": [],
   "source": [
    "X = df[['duration','seats','origin_le','destination_le','vehicle_type_le','vehicle_class_le','fare_le','Month','Day','Day of the week','Hour']]\n",
    "y = df[\"price\"]\n"
   ]
  },
  {
   "cell_type": "code",
   "execution_count": 21,
   "metadata": {},
   "outputs": [
    {
     "data": {
      "text/plain": [
       "LinearRegression(n_jobs=-1)"
      ]
     },
     "execution_count": 21,
     "metadata": {},
     "output_type": "execute_result"
    }
   ],
   "source": [
    "from sklearn.linear_model import LinearRegression\n",
    "from sklearn.model_selection import train_test_split\n",
    "from sklearn.metrics import mean_squared_error, mean_absolute_error, accuracy_score, r2_score\n",
    "\n",
    "model = LinearRegression(n_jobs=-1)\n",
    "X_train, X_test, y_train, y_test = train_test_split(X, y , test_size = 0.2)\n",
    "\n",
    "model.fit(X_train, y_train)"
   ]
  },
  {
   "cell_type": "code",
   "execution_count": 22,
   "metadata": {},
   "outputs": [
    {
     "data": {
      "text/plain": [
       "array([45.57287268, 31.85241657, 39.353214  , ..., 39.36346757,\n",
       "       34.03640241, 36.08322488])"
      ]
     },
     "execution_count": 22,
     "metadata": {},
     "output_type": "execute_result"
    }
   ],
   "source": [
    "model.predict(X_test)"
   ]
  },
  {
   "cell_type": "code",
   "execution_count": 23,
   "metadata": {},
   "outputs": [
    {
     "name": "stdout",
     "output_type": "stream",
     "text": [
      "MSE 244.73285995059138\n",
      "RMSE 15.643940039216188\n",
      "MAE 12.328505155915426\n",
      "R2 score 0.3561712051391519\n"
     ]
    }
   ],
   "source": [
    "print(\"MSE\", mean_squared_error(y_test, model.predict(X_test)))\n",
    "print(\"RMSE\", np.sqrt(mean_squared_error(y_test, model.predict(X_test))))\n",
    "print(\"MAE\", mean_absolute_error(y_test, model.predict(X_test)))\n",
    "print('R2 score', r2_score(y_test, model.predict(X_test)))"
   ]
  },
  {
   "cell_type": "code",
   "execution_count": 24,
   "metadata": {},
   "outputs": [
    {
     "name": "stderr",
     "output_type": "stream",
     "text": [
      "/Library/Frameworks/Python.framework/Versions/3.7/lib/python3.7/site-packages/seaborn/_decorators.py:43: FutureWarning: Pass the following variables as keyword args: x, y. From version 0.12, the only valid positional argument will be `data`, and passing other arguments without an explicit keyword will result in an error or misinterpretation.\n",
      "  FutureWarning\n"
     ]
    },
    {
     "data": {
      "text/plain": [
       "<AxesSubplot:xlabel='price'>"
      ]
     },
     "execution_count": 24,
     "metadata": {},
     "output_type": "execute_result"
    },
    {
     "data": {
      "image/png": "[encoded data removed]",
      "text/plain": [
       "<Figure size 432x288 with 1 Axes>"
      ]
     },
     "metadata": {
      "needs_background": "light"
     },
     "output_type": "display_data"
    }
   ],
   "source": [
    "sns.regplot(y_test, model.predict(X_test))"
   ]
  },
  {
   "cell_type": "code",
   "execution_count": 25,
   "metadata": {},
   "outputs": [
    {
     "data": {
      "text/plain": [
       "LinearRegression()"
      ]
     },
     "execution_count": 25,
     "metadata": {},
     "output_type": "execute_result"
    }
   ],
   "source": [
    "from sklearn.preprocessing import PolynomialFeatures\n",
    "\n",
    "model_poly = PolynomialFeatures(degree = 3)\n",
    "\n",
    "model_poly.fit(X_train)\n",
    "X_poly = model_poly.transform(X_train)\n",
    "\n",
    "pol_reg = LinearRegression()\n",
    "pol_reg.fit(X_poly, y_train)"
   ]
  },
  {
   "cell_type": "code",
   "execution_count": 27,
   "metadata": {},
   "outputs": [
    {
     "name": "stdout",
     "output_type": "stream",
     "text": [
      "The model performance for test set\n",
      "--------------------------------------\n",
      "MAE test 5.261863705241361\n",
      "MSE test 61.11059297959403\n",
      "RMSE test 7.817326459832289\n",
      "R2 score 0.8392338509866347\n"
     ]
    }
   ],
   "source": [
    "X_poly_test = model_poly.transform(X_test)\n",
    "print('The model performance for test set')\n",
    "print('--------------------------------------')\n",
    "print('MAE test', mean_absolute_error(y_test, pol_reg.predict(X_poly_test)))\n",
    "print('MSE test', mean_squared_error(y_test, pol_reg.predict(X_poly_test)))\n",
    "print('RMSE test', np.sqrt(mean_squared_error(y_test, pol_reg.predict(X_poly_test))))\n",
    "print('R2 score', r2_score(y_test, pol_reg.predict(X_poly_test)))\n"
   ]
  },
  {
   "cell_type": "code",
   "execution_count": null,
   "metadata": {},
   "outputs": [],
   "source": []
  },
  {
   "cell_type": "code",
   "execution_count": 46,
   "metadata": {},
   "outputs": [
    {
     "data": {
      "text/plain": [
       "RandomForestRegressor(n_estimators=30)"
      ]
     },
     "execution_count": 46,
     "metadata": {},
     "output_type": "execute_result"
    }
   ],
   "source": [
    "from sklearn.ensemble import RandomForestRegressor\n",
    "\n",
    "model_RF = RandomForestRegressor(n_estimators= 30)\n",
    "\n",
    "model_RF.fit(X_train, y_train)"
   ]
  },
  {
   "cell_type": "code",
   "execution_count": 47,
   "metadata": {},
   "outputs": [
    {
     "name": "stdout",
     "output_type": "stream",
     "text": [
      "MSE 5.9344548225612845\n",
      "RMSE 2.436073648837671\n",
      "MAE 0.7378697133599244\n",
      "R2 score 0.984384242906949\n"
     ]
    }
   ],
   "source": [
    "model_RF.predict(X_test)\n",
    "\n",
    "print(\"MSE\", mean_squared_error(y_test, model_RF.predict(X_test)))\n",
    "print(\"RMSE\", np.sqrt(mean_squared_error(y_test, model_RF.predict(X_test))))\n",
    "print(\"MAE\", mean_absolute_error(y_test, model_RF.predict(X_test)))\n",
    "print('R2 score', r2_score(y_test, model_RF.predict(X_test)))"
   ]
  },
  {
   "cell_type": "code",
   "execution_count": null,
   "metadata": {},
   "outputs": [],
   "source": [
    "plt.figure(figsize=(10,6), dpi=100)\n",
    "sns.regplot(y_test, model_RF.predict(X_test))"
   ]
  }
 ],
 "metadata": {
  "interpreter": {
   "hash": "aee8b7b246df8f9039afb4144a1f6fd8d2ca17a180786b69acc140d282b71a49"
  },
  "kernelspec": {
   "display_name": "Python 3.7.4 64-bit",
   "language": "python",
   "name": "python3"
  },
  "language_info": {
   "codemirror_mode": {
    "name": "ipython",
    "version": 3
   },
   "file_extension": ".py",
   "mimetype": "text/x-python",
   "name": "python",
   "nbconvert_exporter": "python",
   "pygments_lexer": "ipython3",
   "version": "3.7.4"
  },
  "orig_nbformat": 4
 },
 "nbformat": 4,
 "nbformat_minor": 2
}
