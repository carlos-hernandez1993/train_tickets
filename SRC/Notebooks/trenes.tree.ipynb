{
 "cells": [
  {
   "cell_type": "code",
   "execution_count": 10,
   "metadata": {},
   "outputs": [],
   "source": [
    "import sys, os"
   ]
  },
  {
   "cell_type": "code",
   "execution_count": 11,
   "metadata": {},
   "outputs": [
    {
     "name": "stdout",
     "output_type": "stream",
     "text": [
      "---------------\n",
      "/Users/valdecantos/Documents/The_Bridge/Alumno_Folder/Alumno_Curso/datascience_thebridge_9_21/Proyecto ML/SRC\n",
      "---------------\n",
      "---------------\n",
      "/Users/valdecantos/Documents/The_Bridge/Alumno_Folder/Alumno_Curso/datascience_thebridge_9_21/Proyecto ML\n",
      "---------------\n",
      "\n"
     ]
    },
    {
     "data": {
      "text/plain": [
       "['/Users/valdecantos/Documents/The_Bridge/Alumno_Folder/Alumno_Curso/datascience_thebridge_9_21/Proyecto ML/SRC/Notebooks',\n",
       " '/Users/valdecantos/.vscode/extensions/ms-toolsai.jupyter-2021.10.1101450599/pythonFiles',\n",
       " '/Users/valdecantos/.vscode/extensions/ms-toolsai.jupyter-2021.10.1101450599/pythonFiles/lib/python',\n",
       " '/Library/Frameworks/Python.framework/Versions/3.7/lib/python37.zip',\n",
       " '/Library/Frameworks/Python.framework/Versions/3.7/lib/python3.7',\n",
       " '/Library/Frameworks/Python.framework/Versions/3.7/lib/python3.7/lib-dynload',\n",
       " '',\n",
       " '/Library/Frameworks/Python.framework/Versions/3.7/lib/python3.7/site-packages',\n",
       " '/Library/Frameworks/Python.framework/Versions/3.7/lib/python3.7/site-packages/IPython/extensions',\n",
       " '/Users/valdecantos/.ipython',\n",
       " '/Users/valdecantos/Documents/The_Bridge/Alumno_Folder/Alumno_Curso/datascience_thebridge_9_21/Proyecto ML/SRC',\n",
       " '/Users/valdecantos/Documents/The_Bridge/Alumno_Folder/Alumno_Curso/datascience_thebridge_9_21/Proyecto ML',\n",
       " '/Users/valdecantos/Documents/The_Bridge/Alumno_Folder/Alumno_Curso/datascience_thebridge_9_21/Proyecto ML']"
      ]
     },
     "execution_count": 11,
     "metadata": {},
     "output_type": "execute_result"
    }
   ],
   "source": [
    "def get_root_path(n):\n",
    "    '''\n",
    "    Esta función nos permite iterar sobre carpetas para añadir el path de nuestra carpeta raíz\n",
    "    Argumentos:\n",
    "        - n (int): el número de veces que iteraremos para llegar a la carpeta deseada\n",
    "    '''\n",
    "    path = os.getcwd() # para notebook ||| __file__ --> para .py\n",
    "    for i in range(n):\n",
    "        path = os.path.dirname(path)\n",
    "        print('---------------')\n",
    "        print(path)\n",
    "        print('---------------')\n",
    "    sys.path.append(path)\n",
    "\n",
    "get_root_path(n=2)\n",
    "print()\n",
    "sys.path"
   ]
  },
  {
   "cell_type": "code",
   "execution_count": 12,
   "metadata": {},
   "outputs": [],
   "source": [
    "import pandas as pd\n",
    "import numpy as np\n",
    "import sklearn\n",
    "from sklearn import preprocessing\n",
    "import seaborn as sns\n",
    "import matplotlib.pyplot as plt\n",
    "from SRC.Utils.preprocesado1 import preprocesado as prep1"
   ]
  },
  {
   "cell_type": "code",
   "execution_count": 13,
   "metadata": {},
   "outputs": [
    {
     "name": "stdout",
     "output_type": "stream",
     "text": [
      "<class 'pandas.core.frame.DataFrame'>\n",
      "RangeIndex: 1000000 entries, 0 to 999999\n",
      "Data columns (total 13 columns):\n",
      " #   Column         Non-Null Count    Dtype  \n",
      "---  ------         --------------    -----  \n",
      " 0   company        1000000 non-null  object \n",
      " 1   origin         1000000 non-null  object \n",
      " 2   destination    1000000 non-null  object \n",
      " 3   departure      1000000 non-null  object \n",
      " 4   arrival        1000000 non-null  object \n",
      " 5   duration       1000000 non-null  float64\n",
      " 6   vehicle_type   1000000 non-null  object \n",
      " 7   vehicle_class  1000000 non-null  object \n",
      " 8   price          1000000 non-null  float64\n",
      " 9   fare           1000000 non-null  object \n",
      " 10  seats          1000000 non-null  int64  \n",
      " 11  meta           1000000 non-null  object \n",
      " 12  insert_date    1000000 non-null  object \n",
      "dtypes: float64(2), int64(1), object(10)\n",
      "memory usage: 99.2+ MB\n"
     ]
    }
   ],
   "source": [
    "trenes = pd.read_csv(\"/Users/valdecantos/Documents/The_Bridge/Alumno_Folder/Alumno_Curso/datascience_thebridge_9_21/Proyecto ML/SRC/Data/RAW/viajes-en-tren-sample.csv\")\n",
    "trenes.info()"
   ]
  },
  {
   "cell_type": "code",
   "execution_count": 14,
   "metadata": {},
   "outputs": [
    {
     "name": "stderr",
     "output_type": "stream",
     "text": [
      "/Users/valdecantos/Documents/The_Bridge/Alumno_Folder/Alumno_Curso/datascience_thebridge_9_21/Proyecto ML/SRC/Utils/preprocesado1.py:39: FutureWarning: The default value of regex will change from True to False in a future version.\n",
      "  df['vehicle_type'] = df['vehicle_type'].str.replace('REGIONAL.','REG.EXP')\n",
      "/Users/valdecantos/Documents/The_Bridge/Alumno_Folder/Alumno_Curso/datascience_thebridge_9_21/Proyecto ML/SRC/Utils/preprocesado1.py:41: FutureWarning: The default value of regex will change from True to False in a future version.\n",
      "  df['vehicle_type'] = df['vehicle_type'].str.replace('REG.EXP.','REG.EXP')\n"
     ]
    },
    {
     "name": "stdout",
     "output_type": "stream",
     "text": [
      "<class 'pandas.core.frame.DataFrame'>\n",
      "RangeIndex: 1000000 entries, 0 to 999999\n",
      "Data columns (total 12 columns):\n",
      " #   Column            Non-Null Count    Dtype  \n",
      "---  ------            --------------    -----  \n",
      " 0   duration          1000000 non-null  float64\n",
      " 1   price             1000000 non-null  float64\n",
      " 2   seats             1000000 non-null  int64  \n",
      " 3   origin_le         1000000 non-null  int64  \n",
      " 4   destination_le    1000000 non-null  int64  \n",
      " 5   vehicle_type_le   1000000 non-null  int64  \n",
      " 6   vehicle_class_le  1000000 non-null  int64  \n",
      " 7   fare_le           1000000 non-null  int64  \n",
      " 8   Month             1000000 non-null  int64  \n",
      " 9   Day               1000000 non-null  int64  \n",
      " 10  Day of the week   1000000 non-null  int64  \n",
      " 11  Hour              1000000 non-null  int64  \n",
      "dtypes: float64(2), int64(10)\n",
      "memory usage: 91.6 MB\n"
     ]
    }
   ],
   "source": [
    "DF_modificado = prep1(trenes);\n",
    "DF_modificado.info()"
   ]
  },
  {
   "cell_type": "code",
   "execution_count": 15,
   "metadata": {},
   "outputs": [
    {
     "data": {
      "text/html": [
       "<div>\n",
       "<style scoped>\n",
       "    .dataframe tbody tr th:only-of-type {\n",
       "        vertical-align: middle;\n",
       "    }\n",
       "\n",
       "    .dataframe tbody tr th {\n",
       "        vertical-align: top;\n",
       "    }\n",
       "\n",
       "    .dataframe thead th {\n",
       "        text-align: right;\n",
       "    }\n",
       "</style>\n",
       "<table border=\"1\" class=\"dataframe\">\n",
       "  <thead>\n",
       "    <tr style=\"text-align: right;\">\n",
       "      <th></th>\n",
       "      <th>duration</th>\n",
       "      <th>price</th>\n",
       "      <th>seats</th>\n",
       "      <th>origin_le</th>\n",
       "      <th>destination_le</th>\n",
       "      <th>vehicle_type_le</th>\n",
       "      <th>vehicle_class_le</th>\n",
       "      <th>fare_le</th>\n",
       "      <th>Month</th>\n",
       "      <th>Day</th>\n",
       "      <th>Day of the week</th>\n",
       "      <th>Hour</th>\n",
       "    </tr>\n",
       "  </thead>\n",
       "  <tbody>\n",
       "    <tr>\n",
       "      <th>0</th>\n",
       "      <td>2.75</td>\n",
       "      <td>64.25</td>\n",
       "      <td>325</td>\n",
       "      <td>3</td>\n",
       "      <td>0</td>\n",
       "      <td>2</td>\n",
       "      <td>0</td>\n",
       "      <td>2</td>\n",
       "      <td>1</td>\n",
       "      <td>26</td>\n",
       "      <td>1</td>\n",
       "      <td>16</td>\n",
       "    </tr>\n",
       "    <tr>\n",
       "      <th>1</th>\n",
       "      <td>1.78</td>\n",
       "      <td>33.50</td>\n",
       "      <td>289</td>\n",
       "      <td>0</td>\n",
       "      <td>8</td>\n",
       "      <td>2</td>\n",
       "      <td>0</td>\n",
       "      <td>2</td>\n",
       "      <td>2</td>\n",
       "      <td>12</td>\n",
       "      <td>4</td>\n",
       "      <td>8</td>\n",
       "    </tr>\n",
       "    <tr>\n",
       "      <th>2</th>\n",
       "      <td>3.32</td>\n",
       "      <td>41.85</td>\n",
       "      <td>181</td>\n",
       "      <td>3</td>\n",
       "      <td>2</td>\n",
       "      <td>2</td>\n",
       "      <td>2</td>\n",
       "      <td>2</td>\n",
       "      <td>1</td>\n",
       "      <td>21</td>\n",
       "      <td>3</td>\n",
       "      <td>13</td>\n",
       "    </tr>\n",
       "    <tr>\n",
       "      <th>3</th>\n",
       "      <td>6.58</td>\n",
       "      <td>28.35</td>\n",
       "      <td>188</td>\n",
       "      <td>3</td>\n",
       "      <td>6</td>\n",
       "      <td>7</td>\n",
       "      <td>0</td>\n",
       "      <td>0</td>\n",
       "      <td>2</td>\n",
       "      <td>21</td>\n",
       "      <td>6</td>\n",
       "      <td>6</td>\n",
       "    </tr>\n",
       "    <tr>\n",
       "      <th>4</th>\n",
       "      <td>6.25</td>\n",
       "      <td>43.50</td>\n",
       "      <td>207</td>\n",
       "      <td>3</td>\n",
       "      <td>0</td>\n",
       "      <td>2</td>\n",
       "      <td>2</td>\n",
       "      <td>2</td>\n",
       "      <td>10</td>\n",
       "      <td>27</td>\n",
       "      <td>1</td>\n",
       "      <td>7</td>\n",
       "    </tr>\n",
       "    <tr>\n",
       "      <th>...</th>\n",
       "      <td>...</td>\n",
       "      <td>...</td>\n",
       "      <td>...</td>\n",
       "      <td>...</td>\n",
       "      <td>...</td>\n",
       "      <td>...</td>\n",
       "      <td>...</td>\n",
       "      <td>...</td>\n",
       "      <td>...</td>\n",
       "      <td>...</td>\n",
       "      <td>...</td>\n",
       "      <td>...</td>\n",
       "    </tr>\n",
       "    <tr>\n",
       "      <th>999995</th>\n",
       "      <td>1.80</td>\n",
       "      <td>37.40</td>\n",
       "      <td>250</td>\n",
       "      <td>1</td>\n",
       "      <td>3</td>\n",
       "      <td>2</td>\n",
       "      <td>0</td>\n",
       "      <td>2</td>\n",
       "      <td>11</td>\n",
       "      <td>5</td>\n",
       "      <td>3</td>\n",
       "      <td>11</td>\n",
       "    </tr>\n",
       "    <tr>\n",
       "      <th>999996</th>\n",
       "      <td>2.67</td>\n",
       "      <td>28.50</td>\n",
       "      <td>217</td>\n",
       "      <td>0</td>\n",
       "      <td>6</td>\n",
       "      <td>3</td>\n",
       "      <td>0</td>\n",
       "      <td>2</td>\n",
       "      <td>11</td>\n",
       "      <td>18</td>\n",
       "      <td>2</td>\n",
       "      <td>10</td>\n",
       "    </tr>\n",
       "    <tr>\n",
       "      <th>999997</th>\n",
       "      <td>3.00</td>\n",
       "      <td>108.90</td>\n",
       "      <td>250</td>\n",
       "      <td>3</td>\n",
       "      <td>0</td>\n",
       "      <td>2</td>\n",
       "      <td>0</td>\n",
       "      <td>1</td>\n",
       "      <td>11</td>\n",
       "      <td>9</td>\n",
       "      <td>0</td>\n",
       "      <td>12</td>\n",
       "    </tr>\n",
       "    <tr>\n",
       "      <th>999998</th>\n",
       "      <td>2.68</td>\n",
       "      <td>68.20</td>\n",
       "      <td>255</td>\n",
       "      <td>3</td>\n",
       "      <td>4</td>\n",
       "      <td>2</td>\n",
       "      <td>0</td>\n",
       "      <td>2</td>\n",
       "      <td>10</td>\n",
       "      <td>31</td>\n",
       "      <td>5</td>\n",
       "      <td>9</td>\n",
       "    </tr>\n",
       "    <tr>\n",
       "      <th>999999</th>\n",
       "      <td>2.03</td>\n",
       "      <td>55.90</td>\n",
       "      <td>142</td>\n",
       "      <td>3</td>\n",
       "      <td>1</td>\n",
       "      <td>4</td>\n",
       "      <td>0</td>\n",
       "      <td>1</td>\n",
       "      <td>3</td>\n",
       "      <td>1</td>\n",
       "      <td>0</td>\n",
       "      <td>15</td>\n",
       "    </tr>\n",
       "  </tbody>\n",
       "</table>\n",
       "<p>1000000 rows × 12 columns</p>\n",
       "</div>"
      ],
      "text/plain": [
       "        duration   price  seats  origin_le  destination_le  vehicle_type_le  \\\n",
       "0           2.75   64.25    325          3               0                2   \n",
       "1           1.78   33.50    289          0               8                2   \n",
       "2           3.32   41.85    181          3               2                2   \n",
       "3           6.58   28.35    188          3               6                7   \n",
       "4           6.25   43.50    207          3               0                2   \n",
       "...          ...     ...    ...        ...             ...              ...   \n",
       "999995      1.80   37.40    250          1               3                2   \n",
       "999996      2.67   28.50    217          0               6                3   \n",
       "999997      3.00  108.90    250          3               0                2   \n",
       "999998      2.68   68.20    255          3               4                2   \n",
       "999999      2.03   55.90    142          3               1                4   \n",
       "\n",
       "        vehicle_class_le  fare_le  Month  Day  Day of the week  Hour  \n",
       "0                      0        2      1   26                1    16  \n",
       "1                      0        2      2   12                4     8  \n",
       "2                      2        2      1   21                3    13  \n",
       "3                      0        0      2   21                6     6  \n",
       "4                      2        2     10   27                1     7  \n",
       "...                  ...      ...    ...  ...              ...   ...  \n",
       "999995                 0        2     11    5                3    11  \n",
       "999996                 0        2     11   18                2    10  \n",
       "999997                 0        1     11    9                0    12  \n",
       "999998                 0        2     10   31                5     9  \n",
       "999999                 0        1      3    1                0    15  \n",
       "\n",
       "[1000000 rows x 12 columns]"
      ]
     },
     "execution_count": 15,
     "metadata": {},
     "output_type": "execute_result"
    }
   ],
   "source": [
    "DF_modificado"
   ]
  },
  {
   "cell_type": "code",
   "execution_count": 16,
   "metadata": {},
   "outputs": [],
   "source": [
    "X = DF_modificado[['duration','seats','origin_le','destination_le','vehicle_type_le','vehicle_class_le','fare_le','Month','Day','Day of the week','Hour']]\n",
    "y = DF_modificado[\"price\"]"
   ]
  },
  {
   "cell_type": "code",
   "execution_count": 17,
   "metadata": {},
   "outputs": [],
   "source": [
    "from sklearn.model_selection import train_test_split\n",
    "X_train, X_test, y_train, y_test = train_test_split(X, y , test_size = 0.2)"
   ]
  },
  {
   "cell_type": "code",
   "execution_count": 18,
   "metadata": {},
   "outputs": [
    {
     "data": {
      "text/plain": [
       "DecisionTreeRegressor()"
      ]
     },
     "execution_count": 18,
     "metadata": {},
     "output_type": "execute_result"
    }
   ],
   "source": [
    "from sklearn.tree import DecisionTreeRegressor, plot_tree\n",
    "\n",
    "dtr = DecisionTreeRegressor()\n",
    "dtr.fit(X_train, y_train)"
   ]
  },
  {
   "cell_type": "code",
   "execution_count": 25,
   "metadata": {},
   "outputs": [
    {
     "data": {
      "text/plain": [
       "array([27.25, 27.25, 27.  , ..., 23.95, 32.85, 32.85])"
      ]
     },
     "execution_count": 25,
     "metadata": {},
     "output_type": "execute_result"
    }
   ],
   "source": [
    "dtr.predict(X_test)"
   ]
  },
  {
   "cell_type": "code",
   "execution_count": 26,
   "metadata": {},
   "outputs": [
    {
     "name": "stdout",
     "output_type": "stream",
     "text": [
      "MSE 8.413360013740725\n",
      "RMSE 2.90057925486285\n",
      "MAE 0.7023176024032126\n",
      "R2 score 0.9779545112409712\n"
     ]
    }
   ],
   "source": [
    "from sklearn.metrics import mean_squared_error, mean_absolute_error, r2_score\n",
    "\n",
    "print(\"MSE\", mean_squared_error(y_test, dtr.predict(X_test)))\n",
    "print(\"RMSE\", np.sqrt(mean_squared_error(y_test, dtr.predict(X_test))))\n",
    "print(\"MAE\", mean_absolute_error(y_test, dtr.predict(X_test)))\n",
    "print('R2 score', r2_score(y_test, dtr.predict(X_test)))"
   ]
  },
  {
   "cell_type": "code",
   "execution_count": 27,
   "metadata": {},
   "outputs": [
    {
     "name": "stdout",
     "output_type": "stream",
     "text": [
      "MAE: 0.19628258488058287\n"
     ]
    }
   ],
   "source": [
    "predictions = dtr.predict(X_train)\n",
    "\n",
    "errors = abs(predictions - y_train)\n",
    "\n",
    "print(\"MAE:\", np.mean(errors))"
   ]
  },
  {
   "cell_type": "code",
   "execution_count": 28,
   "metadata": {},
   "outputs": [
    {
     "name": "stdout",
     "output_type": "stream",
     "text": [
      "MSE 1.5528439004067085\n",
      "RMSE 1.2461315742756496\n",
      "MAE 0.19628258488058287\n",
      "R2 score 0.9959408231258672\n"
     ]
    }
   ],
   "source": [
    "print(\"MSE\", mean_squared_error(y_train, dtr.predict(X_train)))\n",
    "print(\"RMSE\", np.sqrt(mean_squared_error(y_train, dtr.predict(X_train))))\n",
    "print(\"MAE\", mean_absolute_error(y_train, dtr.predict(X_train)))\n",
    "print('R2 score', r2_score(y_train, dtr.predict(X_train)))"
   ]
  },
  {
   "cell_type": "code",
   "execution_count": 19,
   "metadata": {},
   "outputs": [],
   "source": [
    "import pickle\n",
    "\n",
    "filename = 'trenes_Tree_model'\n",
    "\n",
    "with open(filename, 'wb') as archivo_salida:\n",
    "    pickle.dump(dtr, archivo_salida)"
   ]
  }
 ],
 "metadata": {
  "interpreter": {
   "hash": "aee8b7b246df8f9039afb4144a1f6fd8d2ca17a180786b69acc140d282b71a49"
  },
  "kernelspec": {
   "display_name": "Python 3.7.4 64-bit",
   "language": "python",
   "name": "python3"
  },
  "language_info": {
   "codemirror_mode": {
    "name": "ipython",
    "version": 3
   },
   "file_extension": ".py",
   "mimetype": "text/x-python",
   "name": "python",
   "nbconvert_exporter": "python",
   "pygments_lexer": "ipython3",
   "version": "3.7.4"
  },
  "orig_nbformat": 4
 },
 "nbformat": 4,
 "nbformat_minor": 2
}
